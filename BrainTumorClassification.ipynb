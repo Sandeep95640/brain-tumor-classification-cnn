{
 "cells": [
  {
   "cell_type": "markdown",
   "id": "f48bb833-807b-4c74-9ddf-4914c903f2bd",
   "metadata": {},
   "source": [
    "## 📊 About the Dataset\n",
    "\n",
    "### 🧠 What is a Brain Tumor?\n",
    "A brain tumor is a mass or collection of abnormal cells in the brain. Since the skull is a rigid and enclosed structure, any abnormal growth can increase pressure inside the skull, potentially causing **brain damage** and becoming **life-threatening**. Tumors may be:\n",
    "- **Benign (non-cancerous)**\n",
    "- **Malignant (cancerous)**\n",
    "\n",
    "---\n",
    "\n",
    "### 🎯 Importance of Brain Tumor Detection\n",
    "Early detection and classification of brain tumors are **crucial** in medical diagnosis and treatment planning. Proper identification aids in:\n",
    "- Choosing effective treatments  \n",
    "- Improving patient outcomes  \n",
    "- Reducing the risk of permanent damage\n",
    "\n",
    "---\n",
    "\n",
    "### 🧪 Deep Learning Approach\n",
    "This project applies **Convolutional Neural Networks (CNNs)** for:\n",
    "- Detecting tumors from MRI images  \n",
    "- Classifying tumors into **4 categories**  \n",
    "- Identifying tumor **location** through segmentation\n",
    "\n",
    "Instead of using separate models for each task, a **multi-task CNN** handles detection, classification, and localization together.\n",
    "\n",
    "---\n",
    "\n",
    "### 📁 Dataset Overview\n",
    "This dataset is a combination of **3 sources**:\n",
    "- **Figshare**\n",
    "- **SARTAJ**\n",
    "- **Br35H**\n",
    "\n",
    "It includes a total of **7023 MRI images** labeled into **4 classes**:\n",
    "\n",
    "| Class        | Description                 |\n",
    "|--------------|-----------------------------|\n",
    "| **Glioma**    | Tumor from glial cells       |\n",
    "| **Meningioma**| Tumor in meninges            |\n",
    "| **Pituitary** | Tumor in pituitary gland     |\n",
    "| **No Tumor**  | Normal brain scan            |\n",
    "\n",
    "---\n",
    "\n",
    "### 🔁 4-Class Classification Problem\n",
    "The goal is to classify each MRI image into one of these **four categories**.\n",
    "\n",
    "> **Note**: \"No tumor\" images were sourced from the **Br35H** dataset.  \n",
    "> The **glioma images from SARTAJ** were replaced due to mislabeling issues.\n",
    "\n"
   ]
  },
  {
   "cell_type": "markdown",
   "id": "4a9f92b2-d413-4dda-8367-0ea87630af60",
   "metadata": {},
   "source": [
    "## 📦 Step 1: Importing all the necessary files"
   ]
  },
  {
   "cell_type": "code",
   "execution_count": 1,
   "id": "5bd8cdc5-2344-47ee-be06-dfef3152a620",
   "metadata": {},
   "outputs": [
    {
     "name": "stdout",
     "output_type": "stream",
     "text": [
      "WARNING:tensorflow:From c:\\Users\\kumar\\OneDrive\\Desktop\\BrainTumorClassificationUsingCNN\\tf310_env\\lib\\site-packages\\keras\\src\\losses.py:2976: The name tf.losses.sparse_softmax_cross_entropy is deprecated. Please use tf.compat.v1.losses.sparse_softmax_cross_entropy instead.\n",
      "\n"
     ]
    }
   ],
   "source": [
    "import os\n",
    "import numpy as np\n",
    "import pandas as pd\n",
    "import matplotlib.pyplot as plt\n",
    "plt.style.use('dark_background')\n",
    "\n",
    "import tensorflow as tf\n",
    "from tensorflow import keras\n",
    "from keras.models import Sequential\n",
    "from keras.layers import Conv2D, MaxPooling2D, Flatten, Dense, Dropout, BatchNormalization\n",
    "\n",
    "from sklearn.model_selection import train_test_split\n",
    "from sklearn.preprocessing import LabelEncoder\n",
    "from PIL import Image"
   ]
  },
  {
   "cell_type": "markdown",
   "id": "6b2d08fe",
   "metadata": {},
   "source": [
    "## 📁 Step 2: Loading MRI Images from Folders\n",
    "\n",
    "We define a custom function `load_data_from_directory()` that:\n",
    "\n",
    "- Iterates over folders (`glioma`, `meningioma`, `no_tumor`, `pituitary`)\n",
    "- Loads each image, resizes it to 128x128, and converts it to a NumPy array\n",
    "- Labels are derived from the folder names\n"
   ]
  },
  {
   "cell_type": "code",
   "execution_count": 2,
   "id": "833fc4c1-747c-4679-9839-45eee4355814",
   "metadata": {},
   "outputs": [],
   "source": [
    "def load_data_from_directory(base_path, image_size=(128, 128)):\n",
    "    images = []  # hold the image data as NumPy arrays\n",
    "    labels = []  # hold the corresponding class labels (folder names)\n",
    "\n",
    "    # Get list of class folders inside the base directory (e.g., glioma, meningioma, etc.)\n",
    "    class_names = os.listdir(base_path)\n",
    "\n",
    "    # Iterate over each class folder\n",
    "    for class_name in class_names:\n",
    "        class_path = os.path.join(base_path, class_name)  # Create full path to the class folder\n",
    "        \n",
    "        # Skip if it's not a directory (helps avoid errors from hidden files)\n",
    "        if not os.path.isdir(class_path):\n",
    "            continue\n",
    "\n",
    "        # Iterate through each image file in the class folder\n",
    "        for img_name in os.listdir(class_path):\n",
    "            img_path = os.path.join(class_path, img_name)  # Full path to the image file\n",
    "            \n",
    "            try:\n",
    "                # Open the image and convert it to RGB format (ensures 3 color channels)\n",
    "                img = Image.open(img_path).convert('RGB')\n",
    "                \n",
    "                # Resize the image to the desired fixed size 128 x 128\n",
    "                img = img.resize(image_size)\n",
    "                \n",
    "                # Convert image to NumPy array and add to the images list\n",
    "                images.append(np.array(img))\n",
    "                \n",
    "                # Append the class label (folder name) to the labels list\n",
    "                labels.append(class_name)\n",
    "            \n",
    "            except Exception as e:\n",
    "                # If an image fails to load, print the error and continue\n",
    "                print(f\"Error loading image {img_path}: {e}\")\n",
    "\n",
    "    # Convert lists to NumPy arrays for easy handling in training\n",
    "    return np.array(images), np.array(labels)\n"
   ]
  },
  {
   "cell_type": "markdown",
   "id": "0c0c3a1b-1b74-4956-8315-3b1b52d2720a",
   "metadata": {},
   "source": [
    "## 📂 Step 3: Load Training and Testing Data\n",
    "\n",
    "We now load the image data and corresponding labels using our custom `load_data_from_directory()` function.\n",
    "\n",
    "- The function reads all images from the `training/` and `testing/` folders.\n",
    "- Each image is resized to `(128, 128)` and converted to a NumPy array.\n",
    "- Labels are automatically assigned based on the folder name (e.g., `glioma`, `no_tumor`, etc.).\n",
    "\n",
    "This returns:\n",
    "- `X_train`, `X_test`: arrays of images\n",
    "- `y_train`, `y_test`: arrays of labels (class names)\n"
   ]
  },
  {
   "cell_type": "code",
   "execution_count": 3,
   "id": "1ba4da06-2fc1-4723-8903-7e0ab9daae73",
   "metadata": {},
   "outputs": [],
   "source": [
    "X_train, y_train = load_data_from_directory('training')\n",
    "X_test, y_test = load_data_from_directory('testing')"
   ]
  },
  {
   "cell_type": "markdown",
   "id": "b4632841",
   "metadata": {},
   "source": [
    "## 🧹 Step 4: Preprocessing the Data\n",
    "\n",
    "To prepare the image and label data for training:\n",
    "\n",
    "1. **Normalize the Images**  \n",
    "   - We scale all pixel values in `X_train` and `X_test` from the range [0, 255] to [0, 1] by dividing by 255.0.\n",
    "   - This improves model convergence and stability during training.\n",
    "\n",
    "2. **Encode the Labels**  \n",
    "   - The folder names (e.g., `glioma`, `no_tumor`, etc.) are categorical strings.\n",
    "   - We use `LabelEncoder()` to convert these class names into numeric labels (`0`, `1`, `2`, `3`).\n",
    "\n",
    "3. **One-Hot Encoding**  \n",
    "   - Since this is a multi-class classification problem, we one-hot encode the numeric labels using `to_categorical()` to get binary class matrices.\n",
    "   - For example, label `2` becomes `[0, 0, 1, 0]`.\n",
    "\n",
    "4. **Check Data Shapes**  \n",
    "   - Finally, we print the shapes of the training and testing image arrays and the class label mapping to confirm everything is prepared correctly.\n"
   ]
  },
  {
   "cell_type": "code",
   "execution_count": 4,
   "id": "aad2e286-e7f8-49e5-b629-1bc85c61f30b",
   "metadata": {},
   "outputs": [
    {
     "name": "stdout",
     "output_type": "stream",
     "text": [
      "Training data shape: (5712, 128, 128, 3)\n",
      "Testing data shape: (1311, 128, 128, 3)\n",
      "Class mapping: {'glioma': 0, 'meningioma': 1, 'notumor': 2, 'pituitary': 3}\n"
     ]
    }
   ],
   "source": [
    "from keras.utils import to_categorical\n",
    "\n",
    "# Normalize images\n",
    "X_train = X_train / 255.0\n",
    "X_test = X_test / 255.0\n",
    "\n",
    "# Encode labels to numbers\n",
    "le = LabelEncoder()\n",
    "y_train_encoded = le.fit_transform(y_train)\n",
    "y_test_encoded = le.transform(y_test)\n",
    "\n",
    "# One-hot encode for classification\n",
    "y_train_cat = to_categorical(y_train_encoded)\n",
    "y_test_cat = to_categorical(y_test_encoded)\n",
    "\n",
    "print(\"Training data shape:\", X_train.shape)\n",
    "print(\"Testing data shape:\", X_test.shape)\n",
    "print(\"Class mapping:\", dict(zip(le.classes_, range(len(le.classes_)))))"
   ]
  },
  {
   "cell_type": "markdown",
   "id": "acc1717f",
   "metadata": {},
   "source": [
    "## 🔀 Step 5: Shuffle the Dataset\n",
    "\n",
    "Shuffling the data ensures that the training and testing sets are well mixed. This is especially important when images are loaded in a specific folder order (which can unintentionally group similar classes).\n",
    "\n",
    "- We use `sklearn.utils.shuffle()` to randomly reorder both the image arrays and their corresponding one-hot encoded labels.\n",
    "- Setting `random_state=42` ensures reproducibility — the same shuffle order will be applied each time the code is run.\n"
   ]
  },
  {
   "cell_type": "code",
   "execution_count": 5,
   "id": "249056f4",
   "metadata": {},
   "outputs": [],
   "source": [
    "from sklearn.utils import shuffle\n",
    "\n",
    "# Combine and shuffle (just to be safe — especially for custom folder loaders)\n",
    "X_train, y_train = shuffle(X_train, y_train_cat, random_state=42)\n",
    "X_test, y_test = shuffle(X_test, y_test_cat, random_state=42)\n"
   ]
  },
  {
   "cell_type": "markdown",
   "id": "16b46a39",
   "metadata": {},
   "source": [
    "## 🧠 Step 6: Building the CNN Model\n",
    "\n",
    "We define a Convolutional Neural Network (CNN) using Keras' `Sequential` API. The model consists of the following layers:\n",
    "\n",
    "### 🔷 Convolutional Layers\n",
    "- **Conv2D(32)**: 32 filters of size 3x3 with ReLU activation.\n",
    "- **Conv2D(64)** and **Conv2D(128)**: Deeper layers with increasing filters to capture more complex features.\n",
    "\n",
    "### 🔷 MaxPooling Layers\n",
    "- After each convolution, a `MaxPooling2D(2,2)` layer is applied to reduce the spatial dimensions and computational complexity.\n",
    "\n",
    "### 🔷 Batch Normalization\n",
    "- Applied after each pooling layer to stabilize and speed up training.\n",
    "\n",
    "### 🔷 Fully Connected Layers\n",
    "- **Flatten()**: Converts the 3D output of conv layers into a 1D vector.\n",
    "- **Dense(258)**: A dense hidden layer with ReLU activation.\n",
    "- **Dropout(0.5)**: Helps prevent overfitting by randomly deactivating 50% of neurons during training.\n",
    "\n",
    "### 🔷 Output Layer\n",
    "- **Dense(4, activation='softmax')**: Final output layer with 4 units (for 4 classes) and softmax activation to produce class probabilities.\n"
   ]
  },
  {
   "cell_type": "code",
   "execution_count": 6,
   "id": "8ca11808-f536-4fc9-87be-2b3d9186d3aa",
   "metadata": {},
   "outputs": [
    {
     "name": "stdout",
     "output_type": "stream",
     "text": [
      "WARNING:tensorflow:From c:\\Users\\kumar\\OneDrive\\Desktop\\BrainTumorClassificationUsingCNN\\tf310_env\\lib\\site-packages\\keras\\src\\backend.py:873: The name tf.get_default_graph is deprecated. Please use tf.compat.v1.get_default_graph instead.\n",
      "\n",
      "WARNING:tensorflow:From c:\\Users\\kumar\\OneDrive\\Desktop\\BrainTumorClassificationUsingCNN\\tf310_env\\lib\\site-packages\\keras\\src\\layers\\pooling\\max_pooling2d.py:161: The name tf.nn.max_pool is deprecated. Please use tf.nn.max_pool2d instead.\n",
      "\n"
     ]
    }
   ],
   "source": [
    "model = Sequential([\n",
    "    Conv2D(32, (3,3), activation='relu', input_shape=(128,128,3)),\n",
    "    MaxPooling2D(2,2),\n",
    "    BatchNormalization(),\n",
    "\n",
    "    Conv2D(64, (3,3), activation='relu'),\n",
    "    MaxPooling2D(2,2),\n",
    "    BatchNormalization(),\n",
    "\n",
    "    Conv2D(128, (3,3), activation='relu'),\n",
    "    MaxPooling2D(2,2),\n",
    "    BatchNormalization(),\n",
    "\n",
    "    Flatten(),\n",
    "    Dense(258, activation='relu'),\n",
    "    Dropout(0.5),\n",
    "    Dense(4, activation='softmax')  # 4 classes\n",
    "])\n"
   ]
  },
  {
   "cell_type": "markdown",
   "id": "e1ce3b13",
   "metadata": {},
   "source": [
    "## 🛠️ Step 7: Compiling the Model\n",
    "\n",
    "We compile the CNN using the following settings:\n",
    "\n",
    "- **Optimizer:** `adam`  \n",
    "  A popular optimizer that adapts the learning rate during training for faster convergence.\n",
    "\n",
    "- **Loss Function:** `categorical_crossentropy`  \n",
    "  Used for multi-class classification problems when labels are one-hot encoded.\n",
    "\n",
    "- **Metrics:** `accuracy`  \n",
    "  We use accuracy to monitor the performance of the model during training and validation.\n"
   ]
  },
  {
   "cell_type": "code",
   "execution_count": 7,
   "id": "45590852",
   "metadata": {},
   "outputs": [
    {
     "name": "stdout",
     "output_type": "stream",
     "text": [
      "WARNING:tensorflow:From c:\\Users\\kumar\\OneDrive\\Desktop\\BrainTumorClassificationUsingCNN\\tf310_env\\lib\\site-packages\\keras\\src\\optimizers\\__init__.py:309: The name tf.train.Optimizer is deprecated. Please use tf.compat.v1.train.Optimizer instead.\n",
      "\n"
     ]
    }
   ],
   "source": [
    "model.compile(optimizer='adam', loss='categorical_crossentropy', metrics=['accuracy'])\n",
    "\n"
   ]
  },
  {
   "cell_type": "markdown",
   "id": "88f0acf5",
   "metadata": {},
   "source": [
    "## 📈 Step 8: Training the Model with Early Stopping\n",
    "\n",
    "We train the model using the `fit()` function with the following parameters:\n",
    "\n",
    "- **Epochs:** Set to 20 (maximum number of training cycles)\n",
    "- **Validation Data:** Uses `X_test` and `y_test` to evaluate performance after each epoch\n",
    "- **Callbacks:** `EarlyStopping` is used to prevent overfitting\n",
    "\n",
    "### 🔄 EarlyStopping Explained:\n",
    "- **monitor='val_loss'**: Watch the validation loss during training\n",
    "- **patience=3**: Stop training if the validation loss doesn’t improve for 3 consecutive epochs\n",
    "- **restore_best_weights=True**: After stopping, the model will revert to the weights from the epoch with the best validation loss\n"
   ]
  },
  {
   "cell_type": "code",
   "execution_count": 8,
   "id": "d4dfce60",
   "metadata": {},
   "outputs": [
    {
     "name": "stdout",
     "output_type": "stream",
     "text": [
      "Epoch 1/20\n",
      "WARNING:tensorflow:From c:\\Users\\kumar\\OneDrive\\Desktop\\BrainTumorClassificationUsingCNN\\tf310_env\\lib\\site-packages\\keras\\src\\utils\\tf_utils.py:492: The name tf.ragged.RaggedTensorValue is deprecated. Please use tf.compat.v1.ragged.RaggedTensorValue instead.\n",
      "\n",
      "WARNING:tensorflow:From c:\\Users\\kumar\\OneDrive\\Desktop\\BrainTumorClassificationUsingCNN\\tf310_env\\lib\\site-packages\\keras\\src\\engine\\base_layer_utils.py:384: The name tf.executing_eagerly_outside_functions is deprecated. Please use tf.compat.v1.executing_eagerly_outside_functions instead.\n",
      "\n",
      "179/179 [==============================] - 134s 704ms/step - loss: 1.5029 - accuracy: 0.6882 - val_loss: 5.9724 - val_accuracy: 0.2296\n",
      "Epoch 2/20\n",
      "179/179 [==============================] - 112s 625ms/step - loss: 0.5960 - accuracy: 0.7731 - val_loss: 3.8385 - val_accuracy: 0.2670\n",
      "Epoch 3/20\n",
      "179/179 [==============================] - 68s 380ms/step - loss: 0.4894 - accuracy: 0.8190 - val_loss: 1.6402 - val_accuracy: 0.6003\n",
      "Epoch 4/20\n",
      "179/179 [==============================] - 92s 515ms/step - loss: 0.4046 - accuracy: 0.8589 - val_loss: 0.4348 - val_accuracy: 0.8146\n",
      "Epoch 5/20\n",
      "179/179 [==============================] - 89s 500ms/step - loss: 0.3847 - accuracy: 0.8591 - val_loss: 0.7577 - val_accuracy: 0.7582\n",
      "Epoch 6/20\n",
      "179/179 [==============================] - 92s 512ms/step - loss: 0.2745 - accuracy: 0.9037 - val_loss: 0.3671 - val_accuracy: 0.8627\n",
      "Epoch 7/20\n",
      "179/179 [==============================] - 94s 526ms/step - loss: 0.2726 - accuracy: 0.9028 - val_loss: 0.2469 - val_accuracy: 0.9222\n",
      "Epoch 8/20\n",
      "179/179 [==============================] - 95s 533ms/step - loss: 0.2156 - accuracy: 0.9249 - val_loss: 0.2007 - val_accuracy: 0.9161\n",
      "Epoch 9/20\n",
      "179/179 [==============================] - 91s 509ms/step - loss: 0.2508 - accuracy: 0.9186 - val_loss: 0.4307 - val_accuracy: 0.8741\n",
      "Epoch 10/20\n",
      "179/179 [==============================] - 73s 410ms/step - loss: 0.1949 - accuracy: 0.9322 - val_loss: 0.1971 - val_accuracy: 0.9375\n",
      "Epoch 11/20\n",
      "179/179 [==============================] - 72s 395ms/step - loss: 0.1863 - accuracy: 0.9377 - val_loss: 0.6947 - val_accuracy: 0.8551\n",
      "Epoch 12/20\n",
      "179/179 [==============================] - 60s 333ms/step - loss: 0.1464 - accuracy: 0.9438 - val_loss: 0.1553 - val_accuracy: 0.9436\n",
      "Epoch 13/20\n",
      "179/179 [==============================] - 59s 331ms/step - loss: 0.1494 - accuracy: 0.9424 - val_loss: 0.1796 - val_accuracy: 0.9329\n",
      "Epoch 14/20\n",
      "179/179 [==============================] - 85s 475ms/step - loss: 0.1277 - accuracy: 0.9559 - val_loss: 0.1255 - val_accuracy: 0.9603\n",
      "Epoch 15/20\n",
      "179/179 [==============================] - 67s 372ms/step - loss: 0.1273 - accuracy: 0.9533 - val_loss: 0.2152 - val_accuracy: 0.9260\n",
      "Epoch 16/20\n",
      "179/179 [==============================] - 62s 345ms/step - loss: 0.1236 - accuracy: 0.9569 - val_loss: 0.1698 - val_accuracy: 0.9504\n",
      "Epoch 17/20\n",
      "179/179 [==============================] - 59s 330ms/step - loss: 0.0964 - accuracy: 0.9673 - val_loss: 0.2521 - val_accuracy: 0.9245\n"
     ]
    }
   ],
   "source": [
    "from keras.callbacks import EarlyStopping\n",
    "\n",
    "early_stop = EarlyStopping(monitor='val_loss', patience=3, restore_best_weights=True)\n",
    "\n",
    "history = model.fit(X_train, y_train, epochs=20,\n",
    "                    validation_data=(X_test, y_test),\n",
    "                    callbacks=[early_stop])\n",
    "\n"
   ]
  },
  {
   "cell_type": "markdown",
   "id": "52fc387f",
   "metadata": {},
   "source": [
    "## 📊 Step 9: Visualizing Training and Validation Performance\n",
    "\n",
    "To evaluate how well the model is learning, we plot both:\n",
    "\n",
    "- **Training vs Validation Accuracy**\n",
    "- **Training vs Validation Loss**\n",
    "\n",
    "We use a dual Y-axis plot for better comparison:\n",
    "- **Left Y-axis (Blue):** Accuracy\n",
    "- **Right Y-axis (Red):** Loss\n",
    "\n",
    "This plot helps us observe:\n",
    "- Whether the model is overfitting (training accuracy >> validation accuracy)\n",
    "- Whether loss is decreasing as training progresses\n",
    "- Where EarlyStopping may have triggered\n",
    "\n",
    "### 🔍 Interpretation Tips:\n",
    "- Lines close together suggest good generalization.\n",
    "- A rising validation loss while training accuracy improves may indicate overfitting.\n"
   ]
  },
  {
   "cell_type": "code",
   "execution_count": 9,
   "id": "2b56c03b",
   "metadata": {},
   "outputs": [
    {
     "data": {
      "image/png": "[encoded data removed]",
      "text/plain": [
       "<Figure size 1000x600 with 2 Axes>"
      ]
     },
     "metadata": {},
     "output_type": "display_data"
    }
   ],
   "source": [
    "epochs = range(1, len(history.history['accuracy']) + 1)\n",
    "\n",
    "fig, ax1 = plt.subplots(figsize=(10, 6))\n",
    "\n",
    "# Accuracy on left Y-axis\n",
    "ax1.set_xlabel('Epochs')\n",
    "ax1.set_ylabel('Accuracy', color='blue')\n",
    "ax1.plot(epochs, history.history['accuracy'], label='Training Accuracy', color='skyblue', marker='o')\n",
    "ax1.plot(epochs, history.history['val_accuracy'], label='Validation Accuracy', color='blue', linestyle='--', marker='o')\n",
    "ax1.tick_params(axis='y', labelcolor='blue')\n",
    "\n",
    "# Create second Y-axis for loss\n",
    "ax2 = ax1.twinx()\n",
    "ax2.set_ylabel('Loss', color='red')\n",
    "ax2.plot(epochs, history.history['loss'], label='Training Loss', color='lightcoral', marker='s')\n",
    "ax2.plot(epochs, history.history['val_loss'], label='Validation Loss', color='red', linestyle='--', marker='s')\n",
    "ax2.tick_params(axis='y', labelcolor='red')\n",
    "\n",
    "# Title and layout\n",
    "fig.suptitle('Training vs Validation Accuracy & Loss (Dual Y-Axis)')\n",
    "fig.tight_layout()\n",
    "plt.grid(True)\n",
    "plt.show()"
   ]
  },
  {
   "cell_type": "markdown",
   "id": "4b2b5af4",
   "metadata": {},
   "source": [
    "## 🧪 Step 10: Evaluating the Model on Test Data\n",
    "\n",
    "After training, we evaluate the model on the unseen **test dataset** using `model.evaluate()`.\n",
    "\n",
    "- This function returns the **loss** and **accuracy** on the test set.\n",
    "- It provides a final check on how well the model generalizes beyond the training data.\n",
    "\n",
    "We then print the results:\n",
    "\n",
    "- **Test Loss:** How well the model's predictions match the actual labels\n",
    "- **Test Accuracy:** Proportion of correct predictions on the test set\n"
   ]
  },
  {
   "cell_type": "code",
   "execution_count": 10,
   "id": "d278738c",
   "metadata": {},
   "outputs": [
    {
     "name": "stdout",
     "output_type": "stream",
     "text": [
      "41/41 [==============================] - 3s 73ms/step - loss: 23.5426 - accuracy: 0.2715\n",
      "Test Loss: 23.542619705200195\n",
      "Test Accuracy: 0.27154844999313354\n"
     ]
    }
   ],
   "source": [
    "loss, accuracy = model.evaluate(X_test, y_test_cat)\n",
    "print(f\"Test Loss: {loss}\")\n",
    "print(f\"Test Accuracy: {accuracy}\")\n"
   ]
  },
  {
   "cell_type": "markdown",
   "id": "f1f9c826",
   "metadata": {},
   "source": [
    "## 💾 Step 11: Saving the Trained Model\n",
    "\n",
    "We save the trained CNN model using the `model.save()` method. This creates a `.h5` file that stores:\n",
    "\n",
    "- The architecture of the model\n",
    "- The learned weights\n",
    "- The optimizer and loss configuration\n",
    "\n",
    "### ✅ Why Save the Model?\n",
    "Saving the model allows us to:\n",
    "- Reuse it later without retraining\n",
    "- Load it in external applications (like a Streamlit app)\n",
    "- Share it with others or deploy it to production"
   ]
  },
  {
   "cell_type": "code",
   "execution_count": 11,
   "id": "6e785c0a",
   "metadata": {},
   "outputs": [
    {
     "name": "stderr",
     "output_type": "stream",
     "text": [
      "c:\\Users\\kumar\\OneDrive\\Desktop\\BrainTumorClassificationUsingCNN\\tf310_env\\lib\\site-packages\\keras\\src\\engine\\training.py:3103: UserWarning: You are saving your model as an HDF5 file via `model.save()`. This file format is considered legacy. We recommend using instead the native Keras format, e.g. `model.save('my_model.keras')`.\n",
      "  saving_api.save_model(\n"
     ]
    }
   ],
   "source": [
    "model.save(\"model/brain_tumor_classifier.h5\")"
   ]
  },
  {
   "cell_type": "code",
   "execution_count": null,
   "id": "2ebe8906",
   "metadata": {},
   "outputs": [],
   "source": []
  },
  {
   "cell_type": "code",
   "execution_count": null,
   "id": "e2db01b9",
   "metadata": {},
   "outputs": [],
   "source": []
  }
 ],
 "metadata": {
  "kernelspec": {
   "display_name": "tf310_env",
   "language": "python",
   "name": "python3"
  },
  "language_info": {
   "codemirror_mode": {
    "name": "ipython",
    "version": 3
   },
   "file_extension": ".py",
   "mimetype": "text/x-python",
   "name": "python",
   "nbconvert_exporter": "python",
   "pygments_lexer": "ipython3",
   "version": "3.10.0"
  }
 },
 "nbformat": 4,
 "nbformat_minor": 5
}
